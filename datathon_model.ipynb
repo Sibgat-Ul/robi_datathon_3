{
 "cells": [
  {
   "cell_type": "code",
   "execution_count": null,
   "id": "initial_id",
   "metadata": {
    "collapsed": true,
    "is_executing": true
   },
   "outputs": [],
   "source": [
    "import pandas as pd\n",
    "import numpy as np\n",
    "import warnings\n",
    "\n",
    "warnings.filterwarnings(\"ignore\", category=UserWarning)\n",
    "warnings.filterwarnings(\"ignore\", category=FutureWarning)"
   ]
  },
  {
   "cell_type": "code",
   "outputs": [
    {
     "name": "stdout",
     "output_type": "stream",
     "text": [
      "(108195, 4) (108195, 4)\n"
     ]
    }
   ],
   "source": [
    "X_meat = pd.read_csv('./data/meat_df.csv', index_col='PURCHASE_DATE')\n",
    "X_milk = pd.read_csv('./data/milk_df.csv', index_col='PURCHASE_DATE')\n",
    "print(X_meat.shape, X_milk.shape)\n",
    "problem_1 = pd.read_csv('./data/problem 1.csv')"
   ],
   "metadata": {
    "collapsed": false,
    "ExecuteTime": {
     "end_time": "2024-04-19T18:12:15.853110Z",
     "start_time": "2024-04-19T18:12:15.727249Z"
    }
   },
   "id": "92788211c7f193a4",
   "execution_count": 206
  },
  {
   "cell_type": "code",
   "outputs": [],
   "source": [
    "from sklearn.preprocessing import LabelEncoder\n",
    "\n",
    "# encode MAGIC_KEY\n",
    "\n",
    "le = LabelEncoder()\n",
    "le.fit(X_meat['MAGIC_KEY'])\n",
    "X_meat['MAGIC_KEY'] = le.fit_transform(X_meat['MAGIC_KEY'])\n",
    "X_milk['MAGIC_KEY'] = le.fit_transform(X_milk['MAGIC_KEY'])\n",
    "problem_1['MAGIC_KEY'] = le.fit_transform(problem_1['MAGIC_KEY'])"
   ],
   "metadata": {
    "collapsed": false,
    "ExecuteTime": {
     "end_time": "2024-04-19T18:12:16.151698Z",
     "start_time": "2024-04-19T18:12:15.946372Z"
    }
   },
   "id": "e4ca5f2a2ae19c16",
   "execution_count": 207
  },
  {
   "cell_type": "code",
   "outputs": [
    {
     "data": {
      "text/plain": "array(['2498CA210F2', '249BD4201E6', '249C911B64A', '249D123A385',\n       '249DA1DC108'], dtype=object)"
     },
     "execution_count": 208,
     "metadata": {},
     "output_type": "execute_result"
    }
   ],
   "source": [
    "le.classes_[:5]"
   ],
   "metadata": {
    "collapsed": false,
    "ExecuteTime": {
     "end_time": "2024-04-19T18:12:16.155515Z",
     "start_time": "2024-04-19T18:12:16.152711Z"
    }
   },
   "id": "6a85b6cc0621a1f7",
   "execution_count": 208
  },
  {
   "cell_type": "code",
   "outputs": [],
   "source": [
    "from sklearn.model_selection import train_test_split\n",
    "\n",
    "# split data\n",
    "X_train_meat, X_test_meat, y_train_meat, y_test_meat = train_test_split(X_meat.drop(columns='MEAT'), X_meat['MEAT'], test_size=0.2, random_state=42)\n",
    "X_train_milk, X_test_milk, y_train_milk, y_test_milk = train_test_split(X_milk.drop(columns='MILK'), X_milk['MILK'], test_size=0.2, random_state=42)"
   ],
   "metadata": {
    "collapsed": false,
    "ExecuteTime": {
     "end_time": "2024-04-19T18:12:16.222568Z",
     "start_time": "2024-04-19T18:12:16.202204Z"
    }
   },
   "id": "a94b949aa14290b5",
   "execution_count": 209
  },
  {
   "cell_type": "code",
   "outputs": [],
   "source": [
    "#OPTUNA\n",
    "import optuna\n",
    "\n",
    "class Optuna:\n",
    "    def __init__(self, X, y, model, n_trials=100):\n",
    "        self.X = X\n",
    "        self.y = y\n",
    "        self.model = model\n",
    "        self.n_trials = n_trials\n",
    "        self.best_params = None\n",
    "        self.best_score = None\n",
    "        \n",
    "    def objective(self, trial):\n",
    "        params = {\n",
    "            'n_estimators': trial.suggest_int('n_estimators', 100, 1000),\n",
    "            'max_depth': trial.suggest_int('max_depth', 3, 10),\n",
    "            'learning_rate': trial.suggest_loguniform('learning_rate', 1e-3, 1e-1),\n",
    "            'subsample': trial.suggest_uniform('subsample', 0.5, 1),\n",
    "            'colsample_bytree': trial.suggest_uniform('colsample_bytree', 0.5, 1),\n",
    "            'reg_alpha': trial.suggest_loguniform('reg_alpha', 1e-3, 1e3),\n",
    "            'reg_lambda': trial.suggest_loguniform('reg_lambda', 1e-3, 1e3),\n",
    "            'min_child_weight': trial.suggest_int('min_child_weight', 1, 300),\n",
    "            'gamma': trial.suggest_loguniform('gamma', 1e-3, 1e3),\n",
    "            'n_jobs': -1\n",
    "        }\n",
    "        \n",
    "        model = self.model(**params)\n",
    "        model.fit(self.X, self.y)\n",
    "        preds = model.predict(self.X)\n",
    "        score = mean_squared_error(self.y, preds)\n",
    "        \n",
    "        return score\n",
    "    \n",
    "    def optimize(self, maximize=False):\n",
    "        study = None\n",
    "        \n",
    "        if maximize:\n",
    "            study = optuna.create_study(direction='maximize')\n",
    "        else:\n",
    "            study = optuna.create_study(direction='minimize')\n",
    "            \n",
    "        study.optimize(self.objective, n_trials=self.n_trials)\n",
    "        \n",
    "        self.best_params = study.best_params\n",
    "        self.best_score = study.best_value"
   ],
   "metadata": {
    "collapsed": false
   },
   "id": "739f5ae001deacad"
  },
  {
   "cell_type": "code",
   "outputs": [],
   "source": [
    "import torch\n",
    "import torch.nn as nn\n",
    "import torch.optim as optim\n",
    "\n",
    "\n",
    "from sklearn.ensemble import HistGradientBoostingRegressor, GradientBoostingClassifier\n",
    "from xgboost import XGBRegressor, XGBClassifier\n",
    "from lightgbm import LGBMRegressor, LGBMClassifier\n",
    "from catboost import CatBoostRegressor, CatBoostClassifier\n",
    "from sklearn.svm import SVC\n",
    "from sklearn.neighbors import KNeighborsClassifier\n",
    "from sklearn.gaussian_process import GaussianProcessClassifier\n",
    "from sklearn.ensemble import AdaBoostClassifier\n",
    "\n",
    "\n",
    "# model\n",
    "\n",
    "class Regressor_torch(nn.Module):\n",
    "    def __init__(self, input_dim, output_dim):\n",
    "        self.model = nn.Sequential(\n",
    "            nn.Linear(input_dim, 128),\n",
    "            nn.ReLU(),\n",
    "            nn.Linear(128, 64),\n",
    "            nn.ReLU(),\n",
    "            nn.Linear(64, 32),\n",
    "            nn.ReLU(),\n",
    "            nn.Linear(32, output_dim)\n",
    "        )\n",
    "       \n",
    "    def forward(self, x):\n",
    "        return self.model(x)\n",
    "\n",
    "class Classification_torch(nn.Module):\n",
    "    def __init__(self, input_dim, output_dim):\n",
    "        self.model = nn.Sequential(\n",
    "            nn.Linear(input_dim, 128),\n",
    "            nn.ReLU(),\n",
    "            nn.Linear(128, 64),\n",
    "            nn.ReLU(),\n",
    "            nn.Linear(64, 32),\n",
    "            nn.ReLU(),\n",
    "            nn.Linear(32, output_dim),\n",
    "            nn.Softmax()\n",
    "        )\n",
    "       \n",
    "    def forward(self, x):\n",
    "        return self.model(x) \n",
    "\n",
    "class RegressorV1:\n",
    "    def __init__(self):\n",
    "        self.models = {\n",
    "            'HistGradientBoostingRegressor': HistGradientBoostingRegressor(),\n",
    "            'XGBRegressor': XGBRegressor(),\n",
    "            'LGBMRegressor': LGBMRegressor(),\n",
    "            'CatBoostRegressor': CatBoostRegressor()\n",
    "        }\n",
    "    \n",
    "    def fit(self, X, y):\n",
    "        for model in self.models.values():\n",
    "            model.fit(X, y)\n",
    "    \n",
    "    def predict(self, X, model=None):\n",
    "        if model:\n",
    "            return self.models[model].predict(X)\n",
    "        \n",
    "        return {name: model.predict(X) for name, model in self.models.items()}\n",
    "    \n",
    "class ClassifierV1:\n",
    "    def __init__(self):\n",
    "        self.models = {\n",
    "            'GBC': GradientBoostingClassifier(),\n",
    "            'ABC': AdaBoostClassifier(),\n",
    "            'SVC': SVC(),\n",
    "            'KNC': KNeighborsClassifier(),\n",
    "            'GPC': GaussianProcessClassifier(),\n",
    "            'XGBC': XGBClassifier(),\n",
    "            'LGBC': LGBMClassifier(),\n",
    "            'CBC': CatBoostClassifier()\n",
    "        }\n",
    "        \n",
    "        self.best_model = None\n",
    "         \n",
    "    def fit(self, X, y):\n",
    "        for model in self.models.values():\n",
    "            model.fit(X, y)\n",
    "        \n",
    "    def predict(self, X, model=None):\n",
    "        if model:\n",
    "            return self.models[model].predict(X)\n",
    "        \n",
    "        return {name: model.predict(X) for name, model in self.models.items()}    \n",
    "    \n",
    "    \n",
    "\n",
    "class ClassifierV2:\n",
    "    def __init__(self, params: dict):\n",
    "        self.models = {\n",
    "            'GBC': GradientBoostingClassifier(**params['GBC']),\n",
    "            'ABC': AdaBoostClassifier(**params['ABC']),\n",
    "            'SVC': SVC(**params['SVC']),\n",
    "            'KNC': KNeighborsClassifier(**params['KNC']),\n",
    "            'GPC': GaussianProcessClassifier(**params['GPC']),\n",
    "            'XGBC': XGBClassifier(**params['XGBC']),\n",
    "            'LGBC': LGBMClassifier(**params['LGBC']),\n",
    "            'CBC': CatBoostClassifier(**params['CBC'])\n",
    "        }\n",
    "        \n",
    "    def fit(self, X, y):\n",
    "        for model in self.models.values():\n",
    "            model.fit(X, y)\n",
    "        \n",
    "    def predict(self, X, model=None):\n",
    "        if model:\n",
    "            return self.models[model].predict(X)\n",
    "        \n",
    "        return {name: model.predict(X) for name, model in self.models.items()}"
   ],
   "metadata": {
    "collapsed": false,
    "ExecuteTime": {
     "end_time": "2024-04-19T18:12:16.319480Z",
     "start_time": "2024-04-19T18:12:16.314090Z"
    }
   },
   "id": "b250f97869abc7d1",
   "execution_count": 210
  },
  {
   "cell_type": "code",
   "outputs": [],
   "source": [
    "from sklearn.model_selection import StratifiedKFold\n",
    "from sklearn.metrics import mean_squared_error, f1_score, log_loss, accuracy_score\n",
    "\n",
    "class TrainClassifier:\n",
    "    def __init__(self, model, X, y, n_splits=5):\n",
    "        self.model = model\n",
    "        self.X = X\n",
    "        self.y = y\n",
    "        self.n_splits = n_splits\n",
    "        self.f1_scores = []\n",
    "        self.log_losses = []\n",
    "        self.accuracy_scores = []\n",
    "        \n",
    "    def train(self):\n",
    "        kf = StratifiedKFold(n_splits=self.n_splits, shuffle=True)\n",
    "        f1_scores = []\n",
    "        log_losses = []\n",
    "        accuracy_scores = []\n",
    "        \n",
    "        for train_index, test_index in kf.split(self.X):\n",
    "            X_train, X_test = self.X.iloc[train_index], self.X.iloc[test_index]\n",
    "            y_train, y_test = self.y.iloc[train_index], self.y.iloc[test_index]\n",
    "            \n",
    "            self.model.fit(X_train, y_train)\n",
    "            preds = self.model.predict(X_test)\n",
    "            \n",
    "            f1_scores.append(f1_score(y_test, preds))\n",
    "            log_losses.append(log_loss(y_test, preds))\n",
    "            accuracy_scores.append(accuracy_score(y_test, preds))\n",
    "        \n",
    "        self.f1_scores = f1_scores\n",
    "        self.log_losses = log_losses\n",
    "        self.accuracy_scores = accuracy_scores\n",
    "    \n",
    "    def get_scores(self):\n",
    "        return {\n",
    "            'f1_scores': self.f1_scores,\n",
    "            'log_losses': self.log_losses,\n",
    "            'accuracy_scores': self.accuracy_scores\n",
    "        }\n",
    "\n",
    "class TrainRegressor:\n",
    "    def __init__(self, model, X, y, n_splits=5):\n",
    "        self.model = model\n",
    "        self.X = X\n",
    "        self.y = y\n",
    "        self.n_splits = n_splits\n",
    "        self.mean_squared_errors = []\n",
    "        \n",
    "    def train(self):\n",
    "        kf = StratifiedKFold(n_splits=self.n_splits, shuffle=True)\n",
    "        mean_squared_errors = []\n",
    "        \n",
    "        for train_index, test_index in kf.split(self.X):\n",
    "            X_train, X_test = self.X.iloc[train_index], self.X.iloc[test_index]\n",
    "            y_train, y_test = self.y.iloc[train_index], self.y.iloc[test_index]\n",
    "            \n",
    "            self.model.fit(X_train, y_train)\n",
    "            preds = self.model.predict(X_test)\n",
    "            \n",
    "            mean_squared_errors.append(mean_squared_error(y_test, preds))\n",
    "        \n",
    "        self.mean_squared_errors = mean_squared_errors\n",
    "    \n",
    "    def get_scores(self):\n",
    "        return {\n",
    "            'mean_squared_errors': self.mean_squared_errors\n",
    "        }"
   ],
   "metadata": {
    "collapsed": false,
    "ExecuteTime": {
     "end_time": "2024-04-20T08:09:11.795046Z",
     "start_time": "2024-04-20T08:09:11.217052Z"
    }
   },
   "id": "57277d0ddf031233",
   "execution_count": 2
  },
  {
   "cell_type": "code",
   "outputs": [],
   "source": [],
   "metadata": {
    "collapsed": false
   },
   "id": "e92eab0791304be6"
  }
 ],
 "metadata": {
  "kernelspec": {
   "display_name": "Python 3",
   "language": "python",
   "name": "python3"
  },
  "language_info": {
   "codemirror_mode": {
    "name": "ipython",
    "version": 2
   },
   "file_extension": ".py",
   "mimetype": "text/x-python",
   "name": "python",
   "nbconvert_exporter": "python",
   "pygments_lexer": "ipython2",
   "version": "2.7.6"
  }
 },
 "nbformat": 4,
 "nbformat_minor": 5
}
