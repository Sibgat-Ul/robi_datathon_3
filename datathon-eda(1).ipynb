{
 "metadata": {
  "kernelspec": {
   "language": "python",
   "display_name": "Python 3",
   "name": "python3"
  },
  "language_info": {
   "name": "python",
   "version": "3.10.13",
   "mimetype": "text/x-python",
   "codemirror_mode": {
    "name": "ipython",
    "version": 3
   },
   "pygments_lexer": "ipython3",
   "nbconvert_exporter": "python",
   "file_extension": ".py"
  },
  "kaggle": {
   "accelerator": "none",
   "dataSources": [
    {
     "sourceId": 75250,
     "databundleVersionId": 8266514,
     "sourceType": "competition"
    }
   ],
   "dockerImageVersionId": 30684,
   "isInternetEnabled": true,
   "language": "python",
   "sourceType": "notebook",
   "isGpuEnabled": false
  }
 },
 "nbformat_minor": 4,
 "nbformat": 4,
 "cells": [
  {
   "cell_type": "code",
   "source": [
    "import pandas as pd \n",
    "import numpy as np"
   ],
   "metadata": {
    "_uuid": "8f2839f25d086af736a60e9eeb907d3b93b6e0e5",
    "_cell_guid": "b1076dfc-b9ad-4769-8c92-a6c4dae69d19",
    "execution": {
     "iopub.status.busy": "2024-04-19T08:13:02.571123Z",
     "iopub.execute_input": "2024-04-19T08:13:02.571551Z",
     "iopub.status.idle": "2024-04-19T08:13:05.979708Z",
     "shell.execute_reply.started": "2024-04-19T08:13:02.571518Z",
     "shell.execute_reply": "2024-04-19T08:13:05.978491Z"
    },
    "trusted": true,
    "ExecuteTime": {
     "end_time": "2024-04-20T12:48:51.828818Z",
     "start_time": "2024-04-20T12:48:51.826604Z"
    }
   },
   "execution_count": 62,
   "outputs": []
  },
  {
   "cell_type": "code",
   "outputs": [],
   "source": [
    "root = './data/'\n",
    "\n",
    "purchase = pd.read_csv(root+'purchase.csv')\n",
    "boxes = pd.read_csv(root+'boxes.csv')\n",
    "\n",
    "problem_1 = pd.read_csv(root+'problem 1.csv')\n",
    "problem_2 = pd.read_csv(root+'problem 2.csv')\n",
    "problem_3 = pd.read_csv(root+'problem 3.csv')\n",
    "\n",
    "smp_sub_1 = pd.read_csv(root+'sample submission 1.csv')\n",
    "smp_sub_2 = pd.read_csv(root+'sample submission 2.csv')\n",
    "smp_sub_3 = pd.read_csv(root+'sample submission 3.csv')"
   ],
   "metadata": {
    "collapsed": false,
    "ExecuteTime": {
     "end_time": "2024-04-20T12:48:53.462527Z",
     "start_time": "2024-04-20T12:48:52.435240Z"
    }
   },
   "execution_count": 63
  },
  {
   "cell_type": "code",
   "outputs": [
    {
     "data": {
      "text/plain": "         MAGIC_KEY\n0      28D5BB06356\n1      293BEAB4E98\n2      2962EE8065C\n3      2957BE29EA9\n4      28E351A0745\n...            ...\n58684  28FB7C09776\n58685  28E0E3B69BF\n58686  28D343103A7\n58687  290B1D6D5CB\n58688  28FF193CB94\n\n[58689 rows x 1 columns]",
      "text/html": "<div>\n<style scoped>\n    .dataframe tbody tr th:only-of-type {\n        vertical-align: middle;\n    }\n\n    .dataframe tbody tr th {\n        vertical-align: top;\n    }\n\n    .dataframe thead th {\n        text-align: right;\n    }\n</style>\n<table border=\"1\" class=\"dataframe\">\n  <thead>\n    <tr style=\"text-align: right;\">\n      <th></th>\n      <th>MAGIC_KEY</th>\n    </tr>\n  </thead>\n  <tbody>\n    <tr>\n      <th>0</th>\n      <td>28D5BB06356</td>\n    </tr>\n    <tr>\n      <th>1</th>\n      <td>293BEAB4E98</td>\n    </tr>\n    <tr>\n      <th>2</th>\n      <td>2962EE8065C</td>\n    </tr>\n    <tr>\n      <th>3</th>\n      <td>2957BE29EA9</td>\n    </tr>\n    <tr>\n      <th>4</th>\n      <td>28E351A0745</td>\n    </tr>\n    <tr>\n      <th>...</th>\n      <td>...</td>\n    </tr>\n    <tr>\n      <th>58684</th>\n      <td>28FB7C09776</td>\n    </tr>\n    <tr>\n      <th>58685</th>\n      <td>28E0E3B69BF</td>\n    </tr>\n    <tr>\n      <th>58686</th>\n      <td>28D343103A7</td>\n    </tr>\n    <tr>\n      <th>58687</th>\n      <td>290B1D6D5CB</td>\n    </tr>\n    <tr>\n      <th>58688</th>\n      <td>28FF193CB94</td>\n    </tr>\n  </tbody>\n</table>\n<p>58689 rows × 1 columns</p>\n</div>"
     },
     "execution_count": 64,
     "metadata": {},
     "output_type": "execute_result"
    }
   ],
   "source": [
    "problem_1"
   ],
   "metadata": {
    "collapsed": false,
    "ExecuteTime": {
     "end_time": "2024-04-20T12:48:53.467896Z",
     "start_time": "2024-04-20T12:48:53.463445Z"
    }
   },
   "execution_count": 64
  },
  {
   "cell_type": "code",
   "outputs": [
    {
     "data": {
      "text/plain": "         MAGIC_KEY\n0      2C0B5F97180\n1      2C2F659EF00\n2      29D629EDF20\n3      2A7073E2FF0\n4      2A9B9BE1210\n...            ...\n43513  2C49A3D7EAD\n43514  2C49C75F0D8\n43515  2C49CA2A632\n43516  2C49D52753F\n43517  2C49DF0ADB4\n\n[43518 rows x 1 columns]",
      "text/html": "<div>\n<style scoped>\n    .dataframe tbody tr th:only-of-type {\n        vertical-align: middle;\n    }\n\n    .dataframe tbody tr th {\n        vertical-align: top;\n    }\n\n    .dataframe thead th {\n        text-align: right;\n    }\n</style>\n<table border=\"1\" class=\"dataframe\">\n  <thead>\n    <tr style=\"text-align: right;\">\n      <th></th>\n      <th>MAGIC_KEY</th>\n    </tr>\n  </thead>\n  <tbody>\n    <tr>\n      <th>0</th>\n      <td>2C0B5F97180</td>\n    </tr>\n    <tr>\n      <th>1</th>\n      <td>2C2F659EF00</td>\n    </tr>\n    <tr>\n      <th>2</th>\n      <td>29D629EDF20</td>\n    </tr>\n    <tr>\n      <th>3</th>\n      <td>2A7073E2FF0</td>\n    </tr>\n    <tr>\n      <th>4</th>\n      <td>2A9B9BE1210</td>\n    </tr>\n    <tr>\n      <th>...</th>\n      <td>...</td>\n    </tr>\n    <tr>\n      <th>43513</th>\n      <td>2C49A3D7EAD</td>\n    </tr>\n    <tr>\n      <th>43514</th>\n      <td>2C49C75F0D8</td>\n    </tr>\n    <tr>\n      <th>43515</th>\n      <td>2C49CA2A632</td>\n    </tr>\n    <tr>\n      <th>43516</th>\n      <td>2C49D52753F</td>\n    </tr>\n    <tr>\n      <th>43517</th>\n      <td>2C49DF0ADB4</td>\n    </tr>\n  </tbody>\n</table>\n<p>43518 rows × 1 columns</p>\n</div>"
     },
     "execution_count": 65,
     "metadata": {},
     "output_type": "execute_result"
    }
   ],
   "source": [
    "problem_2"
   ],
   "metadata": {
    "collapsed": false,
    "ExecuteTime": {
     "end_time": "2024-04-20T12:48:53.483427Z",
     "start_time": "2024-04-20T12:48:53.468547Z"
    }
   },
   "execution_count": 65
  },
  {
   "cell_type": "code",
   "outputs": [
    {
     "data": {
      "text/plain": "        MAGIC_KEY\n0     2BCFE9C06A7\n1     2C2A872B5A2\n2     2C6A897671B\n3     2C6F1287F53\n4     2C658198CC9\n...           ...\n5374  2C0804EFE49\n5375  2C080B48630\n5376  2C08243C58E\n5377  2C082C78575\n5378  2C083B1F3E5\n\n[5379 rows x 1 columns]",
      "text/html": "<div>\n<style scoped>\n    .dataframe tbody tr th:only-of-type {\n        vertical-align: middle;\n    }\n\n    .dataframe tbody tr th {\n        vertical-align: top;\n    }\n\n    .dataframe thead th {\n        text-align: right;\n    }\n</style>\n<table border=\"1\" class=\"dataframe\">\n  <thead>\n    <tr style=\"text-align: right;\">\n      <th></th>\n      <th>MAGIC_KEY</th>\n    </tr>\n  </thead>\n  <tbody>\n    <tr>\n      <th>0</th>\n      <td>2BCFE9C06A7</td>\n    </tr>\n    <tr>\n      <th>1</th>\n      <td>2C2A872B5A2</td>\n    </tr>\n    <tr>\n      <th>2</th>\n      <td>2C6A897671B</td>\n    </tr>\n    <tr>\n      <th>3</th>\n      <td>2C6F1287F53</td>\n    </tr>\n    <tr>\n      <th>4</th>\n      <td>2C658198CC9</td>\n    </tr>\n    <tr>\n      <th>...</th>\n      <td>...</td>\n    </tr>\n    <tr>\n      <th>5374</th>\n      <td>2C0804EFE49</td>\n    </tr>\n    <tr>\n      <th>5375</th>\n      <td>2C080B48630</td>\n    </tr>\n    <tr>\n      <th>5376</th>\n      <td>2C08243C58E</td>\n    </tr>\n    <tr>\n      <th>5377</th>\n      <td>2C082C78575</td>\n    </tr>\n    <tr>\n      <th>5378</th>\n      <td>2C083B1F3E5</td>\n    </tr>\n  </tbody>\n</table>\n<p>5379 rows × 1 columns</p>\n</div>"
     },
     "execution_count": 66,
     "metadata": {},
     "output_type": "execute_result"
    }
   ],
   "source": [
    "problem_3"
   ],
   "metadata": {
    "collapsed": false,
    "ExecuteTime": {
     "end_time": "2024-04-20T12:48:53.492290Z",
     "start_time": "2024-04-20T12:48:53.484385Z"
    }
   },
   "execution_count": 66
  },
  {
   "cell_type": "code",
   "source": [
    "def cat_cols(df):\n",
    "    return [col for col in df.columns if df[col].dtype == 'object']\n",
    "\n",
    "def num_cols(df):\n",
    "    return [col for col in df.columns if df[col].dtype != 'object']\n",
    "\n",
    "def basic_eda(df):\n",
    "    print('cols: ', df.columns)\n",
    "    print(' ')\n",
    "    \n",
    "    print('missing values:')\n",
    "    print(df.isnull().sum())\n",
    "    print(' ')\n",
    "    \n",
    "    print('unique values by col: ')\n",
    "    print(df.nunique())\n",
    "    \n",
    "    print(' ')\n",
    "    print('cat cols: ', cat_cols(df))\n",
    "    \n",
    "    print(' ')\n",
    "    print('num cols: ', num_cols(df))"
   ],
   "metadata": {
    "execution": {
     "iopub.status.busy": "2024-04-19T08:13:09.407967Z",
     "iopub.execute_input": "2024-04-19T08:13:09.408350Z",
     "iopub.status.idle": "2024-04-19T08:13:09.418787Z",
     "shell.execute_reply.started": "2024-04-19T08:13:09.408320Z",
     "shell.execute_reply": "2024-04-19T08:13:09.416252Z"
    },
    "trusted": true,
    "ExecuteTime": {
     "end_time": "2024-04-20T12:48:53.499386Z",
     "start_time": "2024-04-20T12:48:53.492851Z"
    }
   },
   "execution_count": 67,
   "outputs": []
  },
  {
   "cell_type": "code",
   "source": [
    "basic_eda(boxes)"
   ],
   "metadata": {
    "execution": {
     "iopub.status.busy": "2024-04-19T08:13:09.421852Z",
     "iopub.execute_input": "2024-04-19T08:13:09.422233Z",
     "iopub.status.idle": "2024-04-19T08:13:09.456614Z",
     "shell.execute_reply.started": "2024-04-19T08:13:09.422203Z",
     "shell.execute_reply": "2024-04-19T08:13:09.455056Z"
    },
    "trusted": true,
    "ExecuteTime": {
     "end_time": "2024-04-20T12:48:53.509538Z",
     "start_time": "2024-04-20T12:48:53.499933Z"
    }
   },
   "execution_count": 68,
   "outputs": [
    {
     "name": "stdout",
     "output_type": "stream",
     "text": [
      "cols:  Index(['BOX_ID', 'QUALITY', 'DELIVERY_OPTION', 'MILK', 'MEAT', 'UNIT_PRICE'], dtype='object')\n",
      " \n",
      "missing values:\n",
      "BOX_ID             0\n",
      "QUALITY            0\n",
      "DELIVERY_OPTION    0\n",
      "MILK               0\n",
      "MEAT               0\n",
      "UNIT_PRICE         0\n",
      "dtype: int64\n",
      " \n",
      "unique values by col: \n",
      "BOX_ID             290\n",
      "QUALITY              2\n",
      "DELIVERY_OPTION      3\n",
      "MILK                28\n",
      "MEAT                39\n",
      "UNIT_PRICE          18\n",
      "dtype: int64\n",
      " \n",
      "cat cols:  ['QUALITY', 'DELIVERY_OPTION']\n",
      " \n",
      "num cols:  ['BOX_ID', 'MILK', 'MEAT', 'UNIT_PRICE']\n"
     ]
    }
   ]
  },
  {
   "cell_type": "code",
   "source": [
    "basic_eda(purchase)"
   ],
   "metadata": {
    "execution": {
     "iopub.status.busy": "2024-04-19T08:13:09.458406Z",
     "iopub.execute_input": "2024-04-19T08:13:09.458741Z",
     "iopub.status.idle": "2024-04-19T08:13:11.152443Z",
     "shell.execute_reply.started": "2024-04-19T08:13:09.458713Z",
     "shell.execute_reply": "2024-04-19T08:13:11.151049Z"
    },
    "trusted": true,
    "ExecuteTime": {
     "end_time": "2024-04-20T12:48:54.195270Z",
     "start_time": "2024-04-20T12:48:53.510561Z"
    }
   },
   "execution_count": 69,
   "outputs": [
    {
     "name": "stdout",
     "output_type": "stream",
     "text": [
      "cols:  Index(['PURCHASE_DATE', 'MAGIC_KEY', 'BOX_ID', 'BOX_COUNT'], dtype='object')\n",
      " \n",
      "missing values:\n",
      "PURCHASE_DATE     0\n",
      "MAGIC_KEY         0\n",
      "BOX_ID           47\n",
      "BOX_COUNT        47\n",
      "dtype: int64\n",
      " \n",
      "unique values by col: \n",
      "PURCHASE_DATE        151\n",
      "MAGIC_KEY        1274108\n",
      "BOX_ID               291\n",
      "BOX_COUNT             14\n",
      "dtype: int64\n",
      " \n",
      "cat cols:  ['PURCHASE_DATE', 'MAGIC_KEY']\n",
      " \n",
      "num cols:  ['BOX_ID', 'BOX_COUNT']\n"
     ]
    }
   ]
  },
  {
   "cell_type": "code",
   "source": [
    "print(purchase.BOX_COUNT.unique())"
   ],
   "metadata": {
    "execution": {
     "iopub.status.busy": "2024-04-19T08:13:11.154017Z",
     "iopub.execute_input": "2024-04-19T08:13:11.154395Z",
     "iopub.status.idle": "2024-04-19T08:13:11.190307Z",
     "shell.execute_reply.started": "2024-04-19T08:13:11.154365Z",
     "shell.execute_reply": "2024-04-19T08:13:11.189029Z"
    },
    "trusted": true,
    "ExecuteTime": {
     "end_time": "2024-04-20T12:48:54.212679Z",
     "start_time": "2024-04-20T12:48:54.196003Z"
    }
   },
   "execution_count": 70,
   "outputs": [
    {
     "name": "stdout",
     "output_type": "stream",
     "text": [
      "[ 1. nan -1.  2.  4.  3.  8.  6.  5.  7.  9. 19. 10. 11. 13.]\n"
     ]
    }
   ]
  },
  {
   "cell_type": "markdown",
   "source": [
    "### 4: Missing data"
   ],
   "metadata": {}
  },
  {
   "cell_type": "code",
   "source": [
    "nan_val = purchase[purchase.isna().any(axis=1)]\n",
    "nan_val.shape"
   ],
   "metadata": {
    "execution": {
     "iopub.status.busy": "2024-04-19T08:13:11.192359Z",
     "iopub.execute_input": "2024-04-19T08:13:11.193060Z",
     "iopub.status.idle": "2024-04-19T08:13:11.759489Z",
     "shell.execute_reply.started": "2024-04-19T08:13:11.193007Z",
     "shell.execute_reply": "2024-04-19T08:13:11.758144Z"
    },
    "trusted": true,
    "ExecuteTime": {
     "end_time": "2024-04-20T12:48:54.322569Z",
     "start_time": "2024-04-20T12:48:54.213414Z"
    }
   },
   "execution_count": 71,
   "outputs": [
    {
     "data": {
      "text/plain": "(47, 4)"
     },
     "execution_count": 71,
     "metadata": {},
     "output_type": "execute_result"
    }
   ]
  },
  {
   "cell_type": "markdown",
   "source": [
    "### 5: Invalid data"
   ],
   "metadata": {}
  },
  {
   "cell_type": "code",
   "source": [
    "inval_val = purchase[purchase.BOX_COUNT == -1]\n",
    "inval_val.shape"
   ],
   "metadata": {
    "execution": {
     "iopub.status.busy": "2024-04-19T08:13:11.761404Z",
     "iopub.execute_input": "2024-04-19T08:13:11.761855Z",
     "iopub.status.idle": "2024-04-19T08:13:11.775181Z",
     "shell.execute_reply.started": "2024-04-19T08:13:11.761814Z",
     "shell.execute_reply": "2024-04-19T08:13:11.773759Z"
    },
    "trusted": true,
    "ExecuteTime": {
     "end_time": "2024-04-20T12:48:54.334400Z",
     "start_time": "2024-04-20T12:48:54.323949Z"
    }
   },
   "execution_count": 72,
   "outputs": [
    {
     "data": {
      "text/plain": "(17, 4)"
     },
     "execution_count": 72,
     "metadata": {},
     "output_type": "execute_result"
    }
   ]
  },
  {
   "cell_type": "markdown",
   "source": [
    "### DROP nan and Invalid values"
   ],
   "metadata": {}
  },
  {
   "cell_type": "code",
   "source": [
    "def drop_by_index(df, to_drop):\n",
    "    print('bef_drop: ', purchase.shape)\n",
    "    df.drop(to_drop, inplace=True)\n",
    "    print('after_drop: ', purchase.shape)\n",
    "\n",
    "drop_by_index(purchase, nan_val.index)\n",
    "drop_by_index(purchase, inval_val.index)"
   ],
   "metadata": {
    "execution": {
     "iopub.status.busy": "2024-04-19T08:13:11.776198Z",
     "iopub.execute_input": "2024-04-19T08:13:11.776546Z",
     "iopub.status.idle": "2024-04-19T08:13:12.344218Z",
     "shell.execute_reply.started": "2024-04-19T08:13:11.776517Z",
     "shell.execute_reply": "2024-04-19T08:13:12.343057Z"
    },
    "trusted": true,
    "ExecuteTime": {
     "end_time": "2024-04-20T12:48:54.589543Z",
     "start_time": "2024-04-20T12:48:54.335039Z"
    }
   },
   "execution_count": 73,
   "outputs": [
    {
     "name": "stdout",
     "output_type": "stream",
     "text": [
      "bef_drop:  (2455864, 4)\n",
      "after_drop:  (2455817, 4)\n",
      "bef_drop:  (2455817, 4)\n",
      "after_drop:  (2455800, 4)\n"
     ]
    }
   ]
  },
  {
   "cell_type": "code",
   "source": [
    "merged_df = pd.merge(purchase, boxes, on='BOX_ID', how='inner')\n",
    "basic_eda(merged_df)"
   ],
   "metadata": {
    "execution": {
     "iopub.status.busy": "2024-04-19T08:13:12.347806Z",
     "iopub.execute_input": "2024-04-19T08:13:12.348215Z",
     "iopub.status.idle": "2024-04-19T08:13:15.642199Z",
     "shell.execute_reply.started": "2024-04-19T08:13:12.348181Z",
     "shell.execute_reply": "2024-04-19T08:13:15.641047Z"
    },
    "trusted": true,
    "ExecuteTime": {
     "end_time": "2024-04-20T12:48:56.316883Z",
     "start_time": "2024-04-20T12:48:54.590349Z"
    }
   },
   "execution_count": 74,
   "outputs": [
    {
     "name": "stdout",
     "output_type": "stream",
     "text": [
      "cols:  Index(['PURCHASE_DATE', 'MAGIC_KEY', 'BOX_ID', 'BOX_COUNT', 'QUALITY',\n",
      "       'DELIVERY_OPTION', 'MILK', 'MEAT', 'UNIT_PRICE'],\n",
      "      dtype='object')\n",
      " \n",
      "missing values:\n",
      "PURCHASE_DATE      0\n",
      "MAGIC_KEY          0\n",
      "BOX_ID             0\n",
      "BOX_COUNT          0\n",
      "QUALITY            0\n",
      "DELIVERY_OPTION    0\n",
      "MILK               0\n",
      "MEAT               0\n",
      "UNIT_PRICE         0\n",
      "dtype: int64\n",
      " \n",
      "unique values by col: \n",
      "PURCHASE_DATE          151\n",
      "MAGIC_KEY          1274087\n",
      "BOX_ID                 290\n",
      "BOX_COUNT               13\n",
      "QUALITY                  2\n",
      "DELIVERY_OPTION          3\n",
      "MILK                    28\n",
      "MEAT                    39\n",
      "UNIT_PRICE              18\n",
      "dtype: int64\n",
      " \n",
      "cat cols:  ['PURCHASE_DATE', 'MAGIC_KEY', 'QUALITY', 'DELIVERY_OPTION']\n",
      " \n",
      "num cols:  ['BOX_ID', 'BOX_COUNT', 'MILK', 'MEAT', 'UNIT_PRICE']\n"
     ]
    }
   ]
  },
  {
   "cell_type": "code",
   "source": [
    "merged_df['PURCHASE_DATE'] = pd.to_datetime(merged_df['PURCHASE_DATE'], format='%d/%m/%Y')\n",
    "merged_df.head(3)"
   ],
   "metadata": {
    "execution": {
     "iopub.status.busy": "2024-04-19T08:13:15.643476Z",
     "iopub.execute_input": "2024-04-19T08:13:15.643799Z",
     "iopub.status.idle": "2024-04-19T08:13:16.106556Z",
     "shell.execute_reply.started": "2024-04-19T08:13:15.643772Z",
     "shell.execute_reply": "2024-04-19T08:13:16.105365Z"
    },
    "trusted": true,
    "ExecuteTime": {
     "end_time": "2024-04-20T12:48:56.473987Z",
     "start_time": "2024-04-20T12:48:56.317456Z"
    }
   },
   "execution_count": 75,
   "outputs": [
    {
     "data": {
      "text/plain": "  PURCHASE_DATE    MAGIC_KEY  BOX_ID  BOX_COUNT  QUALITY      DELIVERY_OPTION  \\\n0    2019-02-01  2CED678A247    12.0        1.0  Premium  Home Delivery - CoD   \n1    2019-02-01  2BF58D91BA1    12.0        1.0  Premium  Home Delivery - CoD   \n2    2019-02-01  2C3A3F7DB65    12.0        1.0  Premium  Home Delivery - CoD   \n\n   MILK  MEAT  UNIT_PRICE  \n0   8.0   1.5       12.98  \n1   8.0   1.5       12.98  \n2   8.0   1.5       12.98  ",
      "text/html": "<div>\n<style scoped>\n    .dataframe tbody tr th:only-of-type {\n        vertical-align: middle;\n    }\n\n    .dataframe tbody tr th {\n        vertical-align: top;\n    }\n\n    .dataframe thead th {\n        text-align: right;\n    }\n</style>\n<table border=\"1\" class=\"dataframe\">\n  <thead>\n    <tr style=\"text-align: right;\">\n      <th></th>\n      <th>PURCHASE_DATE</th>\n      <th>MAGIC_KEY</th>\n      <th>BOX_ID</th>\n      <th>BOX_COUNT</th>\n      <th>QUALITY</th>\n      <th>DELIVERY_OPTION</th>\n      <th>MILK</th>\n      <th>MEAT</th>\n      <th>UNIT_PRICE</th>\n    </tr>\n  </thead>\n  <tbody>\n    <tr>\n      <th>0</th>\n      <td>2019-02-01</td>\n      <td>2CED678A247</td>\n      <td>12.0</td>\n      <td>1.0</td>\n      <td>Premium</td>\n      <td>Home Delivery - CoD</td>\n      <td>8.0</td>\n      <td>1.5</td>\n      <td>12.98</td>\n    </tr>\n    <tr>\n      <th>1</th>\n      <td>2019-02-01</td>\n      <td>2BF58D91BA1</td>\n      <td>12.0</td>\n      <td>1.0</td>\n      <td>Premium</td>\n      <td>Home Delivery - CoD</td>\n      <td>8.0</td>\n      <td>1.5</td>\n      <td>12.98</td>\n    </tr>\n    <tr>\n      <th>2</th>\n      <td>2019-02-01</td>\n      <td>2C3A3F7DB65</td>\n      <td>12.0</td>\n      <td>1.0</td>\n      <td>Premium</td>\n      <td>Home Delivery - CoD</td>\n      <td>8.0</td>\n      <td>1.5</td>\n      <td>12.98</td>\n    </tr>\n  </tbody>\n</table>\n</div>"
     },
     "execution_count": 75,
     "metadata": {},
     "output_type": "execute_result"
    }
   ]
  },
  {
   "cell_type": "code",
   "source": [
    "merged_df['DAY'] = merged_df['PURCHASE_DATE'].dt.day\n",
    "merged_df['MONTH'] = merged_df['PURCHASE_DATE'].dt.month\n",
    "merged_df['YEAR'] = merged_df['PURCHASE_DATE'].dt.year\n",
    "merged_df.head(3)"
   ],
   "metadata": {
    "execution": {
     "iopub.status.busy": "2024-04-19T08:13:16.107856Z",
     "iopub.execute_input": "2024-04-19T08:13:16.108218Z",
     "iopub.status.idle": "2024-04-19T08:13:16.338031Z",
     "shell.execute_reply.started": "2024-04-19T08:13:16.108187Z",
     "shell.execute_reply": "2024-04-19T08:13:16.336779Z"
    },
    "trusted": true,
    "ExecuteTime": {
     "end_time": "2024-04-20T12:48:56.596830Z",
     "start_time": "2024-04-20T12:48:56.474609Z"
    }
   },
   "execution_count": 76,
   "outputs": [
    {
     "data": {
      "text/plain": "  PURCHASE_DATE    MAGIC_KEY  BOX_ID  BOX_COUNT  QUALITY      DELIVERY_OPTION  \\\n0    2019-02-01  2CED678A247    12.0        1.0  Premium  Home Delivery - CoD   \n1    2019-02-01  2BF58D91BA1    12.0        1.0  Premium  Home Delivery - CoD   \n2    2019-02-01  2C3A3F7DB65    12.0        1.0  Premium  Home Delivery - CoD   \n\n   MILK  MEAT  UNIT_PRICE  DAY  MONTH  YEAR  \n0   8.0   1.5       12.98    1      2  2019  \n1   8.0   1.5       12.98    1      2  2019  \n2   8.0   1.5       12.98    1      2  2019  ",
      "text/html": "<div>\n<style scoped>\n    .dataframe tbody tr th:only-of-type {\n        vertical-align: middle;\n    }\n\n    .dataframe tbody tr th {\n        vertical-align: top;\n    }\n\n    .dataframe thead th {\n        text-align: right;\n    }\n</style>\n<table border=\"1\" class=\"dataframe\">\n  <thead>\n    <tr style=\"text-align: right;\">\n      <th></th>\n      <th>PURCHASE_DATE</th>\n      <th>MAGIC_KEY</th>\n      <th>BOX_ID</th>\n      <th>BOX_COUNT</th>\n      <th>QUALITY</th>\n      <th>DELIVERY_OPTION</th>\n      <th>MILK</th>\n      <th>MEAT</th>\n      <th>UNIT_PRICE</th>\n      <th>DAY</th>\n      <th>MONTH</th>\n      <th>YEAR</th>\n    </tr>\n  </thead>\n  <tbody>\n    <tr>\n      <th>0</th>\n      <td>2019-02-01</td>\n      <td>2CED678A247</td>\n      <td>12.0</td>\n      <td>1.0</td>\n      <td>Premium</td>\n      <td>Home Delivery - CoD</td>\n      <td>8.0</td>\n      <td>1.5</td>\n      <td>12.98</td>\n      <td>1</td>\n      <td>2</td>\n      <td>2019</td>\n    </tr>\n    <tr>\n      <th>1</th>\n      <td>2019-02-01</td>\n      <td>2BF58D91BA1</td>\n      <td>12.0</td>\n      <td>1.0</td>\n      <td>Premium</td>\n      <td>Home Delivery - CoD</td>\n      <td>8.0</td>\n      <td>1.5</td>\n      <td>12.98</td>\n      <td>1</td>\n      <td>2</td>\n      <td>2019</td>\n    </tr>\n    <tr>\n      <th>2</th>\n      <td>2019-02-01</td>\n      <td>2C3A3F7DB65</td>\n      <td>12.0</td>\n      <td>1.0</td>\n      <td>Premium</td>\n      <td>Home Delivery - CoD</td>\n      <td>8.0</td>\n      <td>1.5</td>\n      <td>12.98</td>\n      <td>1</td>\n      <td>2</td>\n      <td>2019</td>\n    </tr>\n  </tbody>\n</table>\n</div>"
     },
     "execution_count": 76,
     "metadata": {},
     "output_type": "execute_result"
    }
   ]
  },
  {
   "cell_type": "code",
   "source": [
    "merged_df.columns"
   ],
   "metadata": {
    "execution": {
     "iopub.status.busy": "2024-04-19T08:26:33.780934Z",
     "iopub.execute_input": "2024-04-19T08:26:33.781379Z",
     "iopub.status.idle": "2024-04-19T08:26:33.791514Z",
     "shell.execute_reply.started": "2024-04-19T08:26:33.781345Z",
     "shell.execute_reply": "2024-04-19T08:26:33.789722Z"
    },
    "trusted": true,
    "ExecuteTime": {
     "end_time": "2024-04-20T12:48:56.600140Z",
     "start_time": "2024-04-20T12:48:56.597483Z"
    }
   },
   "execution_count": 77,
   "outputs": [
    {
     "data": {
      "text/plain": "Index(['PURCHASE_DATE', 'MAGIC_KEY', 'BOX_ID', 'BOX_COUNT', 'QUALITY',\n       'DELIVERY_OPTION', 'MILK', 'MEAT', 'UNIT_PRICE', 'DAY', 'MONTH',\n       'YEAR'],\n      dtype='object')"
     },
     "execution_count": 77,
     "metadata": {},
     "output_type": "execute_result"
    }
   ]
  },
  {
   "cell_type": "markdown",
   "source": [
    "### Question 6"
   ],
   "metadata": {}
  },
  {
   "cell_type": "code",
   "source": [
    "df_filtered = merged_df.loc[(merged_df.MONTH == 2) & (merged_df.YEAR == 2019)]['MEAT']\n",
    "\n",
    "df_filtered.sum()"
   ],
   "metadata": {
    "execution": {
     "iopub.status.busy": "2024-04-19T08:26:35.146574Z",
     "iopub.execute_input": "2024-04-19T08:26:35.147006Z",
     "iopub.status.idle": "2024-04-19T08:26:35.243031Z",
     "shell.execute_reply.started": "2024-04-19T08:26:35.146956Z",
     "shell.execute_reply": "2024-04-19T08:26:35.241823Z"
    },
    "trusted": true,
    "ExecuteTime": {
     "end_time": "2024-04-20T12:48:56.660807Z",
     "start_time": "2024-04-20T12:48:56.600772Z"
    }
   },
   "execution_count": 78,
   "outputs": [
    {
     "data": {
      "text/plain": "1269406.3"
     },
     "execution_count": 78,
     "metadata": {},
     "output_type": "execute_result"
    }
   ]
  },
  {
   "cell_type": "markdown",
   "source": [
    "### Question 7"
   ],
   "metadata": {}
  },
  {
   "cell_type": "code",
   "source": [
    "monthly_sales = merged_df.groupby('MONTH')\n",
    "monthly_growth = monthly_sales['MEAT'].sum().pct_change().dropna()\n",
    "print('monthly growth: ')\n",
    "print(monthly_growth)\n",
    "\n",
    "monthly_growth_avg = monthly_growth.mean()\n",
    "print('monthly growth avg: ', monthly_growth_avg)"
   ],
   "metadata": {
    "execution": {
     "iopub.status.busy": "2024-04-19T08:26:35.755881Z",
     "iopub.execute_input": "2024-04-19T08:26:35.756335Z",
     "iopub.status.idle": "2024-04-19T08:26:35.829248Z",
     "shell.execute_reply.started": "2024-04-19T08:26:35.756288Z",
     "shell.execute_reply": "2024-04-19T08:26:35.827943Z"
    },
    "trusted": true,
    "ExecuteTime": {
     "end_time": "2024-04-20T12:48:56.696960Z",
     "start_time": "2024-04-20T12:48:56.661569Z"
    }
   },
   "execution_count": 79,
   "outputs": [
    {
     "name": "stdout",
     "output_type": "stream",
     "text": [
      "monthly growth: \n",
      "MONTH\n",
      "2     0.140527\n",
      "10   -0.358956\n",
      "11    0.043915\n",
      "12    0.180075\n",
      "Name: MEAT, dtype: float64\n",
      "monthly growth avg:  0.001390432972600525\n"
     ]
    }
   ]
  },
  {
   "cell_type": "code",
   "source": [
    "magic_key_group = merged_df.groupby('MAGIC_KEY')\n",
    "magic_key_group['MAGIC_KEY'].count()"
   ],
   "metadata": {
    "execution": {
     "iopub.status.busy": "2024-04-19T08:26:35.947418Z",
     "iopub.execute_input": "2024-04-19T08:26:35.947798Z",
     "iopub.status.idle": "2024-04-19T08:26:36.271640Z",
     "shell.execute_reply.started": "2024-04-19T08:26:35.947768Z",
     "shell.execute_reply": "2024-04-19T08:26:36.270286Z"
    },
    "trusted": true,
    "ExecuteTime": {
     "end_time": "2024-04-20T12:48:59.522297Z",
     "start_time": "2024-04-20T12:48:56.697698Z"
    }
   },
   "execution_count": 80,
   "outputs": [
    {
     "data": {
      "text/plain": "MAGIC_KEY\n249670911D8    2\n249751FC4DD    1\n24978027606    1\n24979164422    1\n2497B8B4FDA    2\n              ..\n2E6F72C6F1C    3\n2E6F8194908    1\n2E6F9C7B9B4    1\n2E6FB0EBB32    6\n2E6FBE224FA    1\nName: MAGIC_KEY, Length: 1274087, dtype: int64"
     },
     "execution_count": 80,
     "metadata": {},
     "output_type": "execute_result"
    }
   ]
  },
  {
   "cell_type": "markdown",
   "source": [
    "### prepare for data"
   ],
   "metadata": {
    "collapsed": false
   }
  },
  {
   "cell_type": "markdown",
   "source": [
    "### PROBLEM 1: predict if the customer will buy milk or meat on the first 15 days of 3rd month of 2019\n",
    "You need to predict which of the Magic Keys given in “problem 1.csv” will buy milk and/or meat in the first 15 days of March-2019. Put Y in the purchase column if the Magic Keys will purchase and N if the Magic Keys will not make a purchase. Prepare and submit as submission.csv following the the template (sample submission 1.csv)."
   ],
   "metadata": {
    "collapsed": false
   }
  },
  {
   "cell_type": "code",
   "outputs": [],
   "source": [
    "to_predict_problem_1 = merged_df[merged_df['MAGIC_KEY'].isin(problem_1['MAGIC_KEY'])]"
   ],
   "metadata": {
    "collapsed": false,
    "ExecuteTime": {
     "end_time": "2024-04-20T12:48:59.794480Z",
     "start_time": "2024-04-20T12:48:59.523179Z"
    }
   },
   "execution_count": 81
  },
  {
   "cell_type": "code",
   "outputs": [],
   "source": [
    "group_mk = to_predict_problem_1.groupby('MAGIC_KEY')"
   ],
   "metadata": {
    "collapsed": false,
    "ExecuteTime": {
     "end_time": "2024-04-20T12:48:59.824800Z",
     "start_time": "2024-04-20T12:48:59.795309Z"
    }
   },
   "execution_count": 82
  },
  {
   "cell_type": "code",
   "outputs": [],
   "source": [
    "ds1_pr1 = pd.DataFrame(group_mk['MEAT'].sum())\n",
    "ds1_pr1['MILK'] = group_mk['MILK'].sum()"
   ],
   "metadata": {
    "collapsed": false,
    "ExecuteTime": {
     "end_time": "2024-04-20T12:48:59.924783Z",
     "start_time": "2024-04-20T12:48:59.825693Z"
    }
   },
   "execution_count": 83
  },
  {
   "cell_type": "code",
   "outputs": [],
   "source": [
    "to_predict_problem_1 = merged_df[(merged_df['YEAR'] == 2019) & (merged_df['MAGIC_KEY'].isin(problem_1['MAGIC_KEY']))][['MAGIC_KEY', 'MEAT', 'MILK', 'DAY', 'MONTH', 'YEAR']]"
   ],
   "metadata": {
    "collapsed": false,
    "ExecuteTime": {
     "end_time": "2024-04-20T12:49:00.140444Z",
     "start_time": "2024-04-20T12:48:59.926329Z"
    }
   },
   "execution_count": 84
  },
  {
   "cell_type": "code",
   "outputs": [
    {
     "name": "stdout",
     "output_type": "stream",
     "text": [
      "(108195, 6)\n",
      "MAGIC_KEY    58689\n",
      "MEAT            16\n",
      "MILK            17\n",
      "DAY             31\n",
      "MONTH            2\n",
      "YEAR             1\n",
      "dtype: int64\n"
     ]
    }
   ],
   "source": [
    "to_predict_problem_1.to_csv('./data/to_predict_problem_1.csv', index=False)\n",
    "print(\n",
    "    to_predict_problem_1.shape\n",
    ")\n",
    "\n",
    "print(to_predict_problem_1.nunique())"
   ],
   "metadata": {
    "collapsed": false,
    "ExecuteTime": {
     "end_time": "2024-04-20T12:49:00.325551Z",
     "start_time": "2024-04-20T12:49:00.141102Z"
    }
   },
   "execution_count": 85
  },
  {
   "cell_type": "markdown",
   "source": [
    "### PROBLEM 2: predict that the customer will buy only one box of meat or milk in the first 15 days of 3rd month of 2019\n",
    "Magic Keys given in “problem 2.csv” purchased only one box of milk and/or meat in the first 15 days of March-2019. You need to predict which boxes were purchased by these customers in this period. Prepare and submit as submission.csv following the the template (sample submission 2.csv)."
   ],
   "metadata": {
    "collapsed": false
   }
  },
  {
   "cell_type": "code",
   "outputs": [
    {
     "name": "stdout",
     "output_type": "stream",
     "text": [
      "(79725, 5)\n",
      "MAGIC_KEY    43518\n",
      "BOX_ID         143\n",
      "DAY             31\n",
      "MONTH            2\n",
      "YEAR             1\n",
      "dtype: int64\n"
     ]
    }
   ],
   "source": [
    "to_predict_problem_2 = merged_df[(merged_df['YEAR'] == 2019) & (merged_df['MAGIC_KEY'].isin(problem_2['MAGIC_KEY']))][['MAGIC_KEY', 'BOX_ID', 'DAY', 'MONTH', 'YEAR']]\n",
    "to_predict_problem_2.to_csv('./data/to_predict_problem_2.csv', index=False)\n",
    "print(\n",
    "    to_predict_problem_2.shape\n",
    ")\n",
    "\n",
    "print(to_predict_problem_2.nunique())"
   ],
   "metadata": {
    "collapsed": false,
    "ExecuteTime": {
     "end_time": "2024-04-20T12:49:00.671051Z",
     "start_time": "2024-04-20T12:49:00.326131Z"
    }
   },
   "execution_count": 86
  },
  {
   "cell_type": "markdown",
   "source": [
    "### PROBLEM 3: predict that the customer will buy only atleast one box of meat or milk in the first 15 days of 3rd month of 2019\n",
    "“problem 3.csv” contains the Magic Keys of customers who purchased at least one box of milk and/or meat in the first 15 days of March-2019. You need to predict what quantity of meat were be purchased by them in this period. Prepare and submit as submission.csv following the the template (sample submission 3.csv)."
   ],
   "metadata": {
    "collapsed": false
   }
  },
  {
   "cell_type": "code",
   "outputs": [
    {
     "name": "stdout",
     "output_type": "stream",
     "text": [
      "(15353, 12)\n",
      "PURCHASE_DATE       151\n",
      "MAGIC_KEY          5378\n",
      "BOX_ID              167\n",
      "BOX_COUNT            11\n",
      "QUALITY               2\n",
      "DELIVERY_OPTION       3\n",
      "MILK                 23\n",
      "MEAT                 29\n",
      "UNIT_PRICE           15\n",
      "DAY                  31\n",
      "MONTH                 5\n",
      "YEAR                  2\n",
      "dtype: int64\n"
     ]
    }
   ],
   "source": [
    "to_predict_problem_3 = merged_df[(merged_df['MAGIC_KEY'].isin(problem_3['MAGIC_KEY']))]\n",
    "to_predict_problem_3.to_csv('./data/to_predict_problem_3.csv', index=False)\n",
    "\n",
    "print(\n",
    "    to_predict_problem_3.shape\n",
    ")\n",
    "\n",
    "print(to_predict_problem_3.nunique())"
   ],
   "metadata": {
    "collapsed": false,
    "ExecuteTime": {
     "end_time": "2024-04-20T12:49:00.917290Z",
     "start_time": "2024-04-20T12:49:00.671699Z"
    }
   },
   "execution_count": 87
  },
  {
   "cell_type": "code",
   "outputs": [
    {
     "data": {
      "text/plain": "1"
     },
     "execution_count": 88,
     "metadata": {},
     "output_type": "execute_result"
    }
   ],
   "source": [
    "len(list(set(problem_3['MAGIC_KEY']) - (set(merged_df['MAGIC_KEY']))))"
   ],
   "metadata": {
    "collapsed": false,
    "ExecuteTime": {
     "end_time": "2024-04-20T12:49:01.512105Z",
     "start_time": "2024-04-20T12:49:00.917903Z"
    }
   },
   "execution_count": 88
  },
  {
   "cell_type": "code",
   "outputs": [
    {
     "data": {
      "text/plain": "PURCHASE_DATE       151\nMAGIC_KEY          5378\nBOX_ID              167\nBOX_COUNT            11\nQUALITY               2\nDELIVERY_OPTION       3\nMILK                 23\nMEAT                 29\nUNIT_PRICE           15\nDAY                  31\nMONTH                 5\nYEAR                  2\ndtype: int64"
     },
     "execution_count": 89,
     "metadata": {},
     "output_type": "execute_result"
    }
   ],
   "source": [
    "merged_df[(merged_df['MAGIC_KEY'].isin(problem_3['MAGIC_KEY']))].nunique()"
   ],
   "metadata": {
    "collapsed": false,
    "ExecuteTime": {
     "end_time": "2024-04-20T12:49:01.719561Z",
     "start_time": "2024-04-20T12:49:01.513001Z"
    }
   },
   "execution_count": 89
  },
  {
   "cell_type": "code",
   "outputs": [
    {
     "data": {
      "text/plain": "1268709"
     },
     "execution_count": 90,
     "metadata": {},
     "output_type": "execute_result"
    }
   ],
   "source": [
    "len(list(set(merged_df['MAGIC_KEY']) - set(problem_3['MAGIC_KEY'])))"
   ],
   "metadata": {
    "collapsed": false,
    "ExecuteTime": {
     "end_time": "2024-04-20T12:49:02.397136Z",
     "start_time": "2024-04-20T12:49:01.720287Z"
    }
   },
   "execution_count": 90
  },
  {
   "cell_type": "code",
   "outputs": [],
   "source": [],
   "metadata": {
    "collapsed": false,
    "ExecuteTime": {
     "end_time": "2024-04-20T12:49:02.399496Z",
     "start_time": "2024-04-20T12:49:02.397858Z"
    }
   },
   "execution_count": 90
  }
 ]
}
